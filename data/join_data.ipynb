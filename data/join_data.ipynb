{
 "cells": [
  {
   "cell_type": "code",
   "execution_count": null,
   "metadata": {},
   "outputs": [],
   "source": [
    "import os\n",
    "import pandas as pd\n",
    "from PIL import Image"
   ]
  },
  {
   "cell_type": "code",
   "execution_count": null,
   "metadata": {},
   "outputs": [],
   "source": [
    "base_path=\"path_to_dowloaded_kaggle_data/MMU-Iris-Database\"\n",
    "output_path = \"images\"\n",
    "csv_output_path = \"image_data.csv\""
   ]
  },
  {
   "cell_type": "code",
   "execution_count": null,
   "metadata": {},
   "outputs": [
    {
     "name": "stdout",
     "output_type": "stream",
     "text": [
      "Storing data for person 32\n",
      "Storing data for person 35\n",
      "Storing data for person 34\n",
      "Storing data for person 33\n",
      "Storing data for person 20\n",
      "Storing data for person 18\n",
      "Storing data for person 27\n",
      "Storing data for person 9\n",
      "Storing data for person 11\n",
      "Storing data for person 7\n",
      "Storing data for person 29\n",
      "Storing data for person 16\n",
      "Storing data for person 42\n",
      "Storing data for person 45\n",
      "Storing data for person 6\n",
      "Storing data for person 28\n",
      "Storing data for person 17\n",
      "Storing data for person 1\n",
      "Storing data for person 10\n",
      "Storing data for person 19\n",
      "Storing data for person 26\n",
      "Storing data for person 8\n",
      "Storing data for person 21\n",
      "Storing data for person 44\n",
      "Storing data for person 43\n",
      "Storing data for person 38\n",
      "Storing data for person 36\n",
      "Storing data for person 31\n",
      "Storing data for person 30\n",
      "Storing data for person 37\n",
      "Storing data for person 39\n",
      "Storing data for person 46\n",
      "Storing data for person 41\n",
      "Storing data for person 24\n",
      "Storing data for person 23\n",
      "Storing data for person 15\n",
      "Storing data for person 3\n",
      "Storing data for person 12\n",
      "Storing data for person 40\n",
      "Storing data for person 2\n",
      "Storing data for person 13\n",
      "Storing data for person 5\n",
      "Storing data for person 14\n",
      "Storing data for person 22\n",
      "Storing data for person 25\n",
      "   person   eye                     image_path\n",
      "0       1  left  images/person1_left_image.bmp\n",
      "1       1  left  images/person1_left_image.bmp\n",
      "2       1  left  images/person1_left_image.bmp\n",
      "3       1  left  images/person1_left_image.bmp\n",
      "4       1  left  images/person1_left_image.bmp\n",
      "Data saved to image_data.csv\n",
      "   person   eye                     image_path\n",
      "0       1  left  images/person1_left_image.bmp\n",
      "1       1  left  images/person1_left_image.bmp\n",
      "2       1  left  images/person1_left_image.bmp\n",
      "3       1  left  images/person1_left_image.bmp\n",
      "4       1  left  images/person1_left_image.bmp\n"
     ]
    }
   ],
   "source": [
    "data = []\n",
    "\n",
    "def image_to_file(img_path, output_file):\n",
    "    img = Image.open(img_path)\n",
    "    img = img.convert('L')\n",
    "    img.save(output_file)\n",
    "\n",
    "for person in os.listdir(base_path):\n",
    "    person_path = os.path.join(base_path, person)\n",
    "    \n",
    "    if not os.path.isdir(person_path) or not person.isdigit():\n",
    "        continue\n",
    "    print(f\"Storing data for person {person}\")\n",
    "\n",
    "    for eye_side in ['left', 'right']:\n",
    "        eye_path = os.path.join(person_path, eye_side)\n",
    "\n",
    "        if not os.path.exists(eye_path):\n",
    "            continue\n",
    "\n",
    "        for img_file in os.listdir(eye_path):\n",
    "            if img_file.endswith('.bmp'):\n",
    "                img_path = os.path.join(eye_path, img_file)\n",
    "                output_file = os.path.join(output_path, f\"person{person}_{eye_side}_image.bmp\")\n",
    "                image_to_file(img_path, output_file)\n",
    "               \n",
    "                data.append({\n",
    "                    'person': int(person),\n",
    "                    'eye': eye_side,\n",
    "                    'image_path': output_file\n",
    "                })\n",
    "\n",
    "#data frame\n",
    "df = pd.DataFrame(data)\n",
    "df.sort_values(by=['person', 'eye'], inplace=True)\n",
    "df.reset_index(drop=True, inplace=True)\n",
    "\n",
    "print(df.head())\n",
    "\n",
    "df.to_csv(csv_output_path, index=False)\n",
    "\n",
    "print(f\"Data saved to {csv_output_path}\")\n",
    "print(df.head())"
   ]
  },
  {
   "cell_type": "code",
   "execution_count": 9,
   "metadata": {},
   "outputs": [
    {
     "data": {
      "text/plain": [
       "450"
      ]
     },
     "execution_count": 9,
     "metadata": {},
     "output_type": "execute_result"
    }
   ],
   "source": [
    "len(df)"
   ]
  }
 ],
 "metadata": {
  "kernelspec": {
   "display_name": "base",
   "language": "python",
   "name": "python3"
  },
  "language_info": {
   "codemirror_mode": {
    "name": "ipython",
    "version": 3
   },
   "file_extension": ".py",
   "mimetype": "text/x-python",
   "name": "python",
   "nbconvert_exporter": "python",
   "pygments_lexer": "ipython3",
   "version": "3.12.7"
  }
 },
 "nbformat": 4,
 "nbformat_minor": 2
}
